{
 "cells": [
  {
   "cell_type": "code",
   "execution_count": null,
   "id": "bfdc3169",
   "metadata": {},
   "outputs": [],
   "source": [
    "import pandas as pd\n",
    "import seaborn as sns\n",
    "from scipy import stats\n",
    "import numpy as np\n",
    "import matplotlib.pyplot as plt\n",
    "import numpy.matlib\n",
    "import statannotations\n",
    "from statannotations.Annotator import Annotator\n",
    "import math\n",
    "import os\n",
    "#pip install --upgrade seaborn==0.11.2\n",
    "#REQUIERD VERSION 0.11.2"
   ]
  },
  {
   "cell_type": "markdown",
   "id": "cbb74a2c",
   "metadata": {},
   "source": [
    "# Functions"
   ]
  },
  {
   "cell_type": "code",
   "execution_count": null,
   "id": "16f96ef5",
   "metadata": {},
   "outputs": [],
   "source": [
    "def FAindex6(rightMeasurements, leftMeasurements):\n",
    "    # Based on: https://www.annualreviews.org/doi/pdf/10.1146/annurev.es.17.110186.002135\n",
    "    # Page 395, table 1\n",
    "    areaNormalized = rightMeasurements;\n",
    "    \n",
    "    for numMeas in range(len(rightMeasurements)):\n",
    "        a_i = rightMeasurements[numMeas] - leftMeasurements[numMeas];\n",
    "        avg = (rightMeasurements[numMeas] + leftMeasurements[numMeas])/2;\n",
    "        areaNormalized[numMeas] = a_i / avg;\n",
    "        \n",
    "    res = np.var(areaNormalized)\n",
    "    return [res, areaNormalized]\n",
    "    "
   ]
  },
  {
   "cell_type": "markdown",
   "id": "81048b09",
   "metadata": {},
   "source": [
    "# Defining initial conditions"
   ]
  },
  {
   "cell_type": "code",
   "execution_count": null,
   "id": "19566075-085f-46b9-a42b-538fd4df289e",
   "metadata": {},
   "outputs": [],
   "source": [
    "# Defining initial folders\n",
    "whoIsRunning = 'Pablo' # or 'Katherine'\n",
    "\n",
    "if whoIsRunning == 'Pablo':\n",
    "    inputFolder = 'data'\n",
    "    conditionsFolder = ['YW/1g', 'sqhAX3_sqhGFP_ubiRFPCAAX/1g', 'sqhAX3_sqhGFP_ubiRFPCAAX/33RPM', 'sqhAX3_sqhGFP_ubiRFPCAAX/5RPM']\n",
    "    conditions = ['YW_Still', 'sqhAX3_Still', 'sqhAX3_33RPM', 'sqhAX3_5RPM']\n",
    "    #conditionsFolder = ['YW/1g', 'sqhAX3_sqhGFP_ubiRFPCAAX/1g']\n",
    "    #conditions = ['YW_Still', 'sqhAX3_Still']\n",
    "    sexes = {'F', 'M', ''}\n",
    "    typesOfAnalysis = {'Output_area.dat', 'Output_vLength.dat', 'Output_Landmarks.dat'}\n",
    "elif whoIsRunning == 'Katherine':\n",
    "    inputFolder = '/Volumes/lmcb4/ym_giulia_s1019_f1222/Katherine_project/Quantitative_wing_analysis/AxioPlan_Images'\n",
    "    conditionsFolder = ['18Nov2022', '16Dec2022/yw_0.1mm/macro_output', '13Jan2023/yw_0.2mm/macro_output',\n",
    "                    '26Jan2023/yw_0.3mm/macro_output', '26Jan2023/yw_0.5mm/macro_output']\n",
    "    conditions = ['straight', '0.1', '0.2', '0.3', '0.5']\n",
    "    typesOfAnalysis = {'CPR_output/Fluctuating_asymmetry/Output_area.dat', 'CPR_output/Fluctuating_asymmetry/Output_vLength.dat', 'CPR_output/Fluctuating_asymmetry/Output_Landmarks.dat'}\n",
    "    sexes = {'F', 'M', ''}\n",
    "\n",
    "features = {'L1', 'L2', 'L3', 'L4', 'L5', 'L6', 'L7', 'L8', 'L9', \\\n",
    "            'L10', 'L11', 'L12', 'L13', 'L14', 'L15', 'L16', 'L17', 'L18', \\\n",
    "           'A1', 'A2', 'A3', 'A4', 'A5', 'A6', 'A7', 'A8', \\\n",
    "            'A4_A5', 'A1_A2_A3', 'A6_A7', \\\n",
    "           'L9_L10_L11', 'L7_L8', 'L12_L13', \\\n",
    "           'wingWidth'}"
   ]
  },
  {
   "cell_type": "code",
   "execution_count": null,
   "id": "4a43e804",
   "metadata": {},
   "outputs": [],
   "source": [
    "if not os.path.exists(inputFolder+'/Results'):\n",
    "    os.makedirs(inputFolder+'/Results')"
   ]
  },
  {
   "cell_type": "markdown",
   "id": "8c624036",
   "metadata": {},
   "source": [
    "## Loading data"
   ]
  },
  {
   "cell_type": "code",
   "execution_count": null,
   "id": "e881e9f0",
   "metadata": {},
   "outputs": [],
   "source": [
    "data = []\n",
    "for numCondition in range(len(conditionsFolder)):\n",
    "    dataCondition = []\n",
    "    for typeOfAnalysis in typesOfAnalysis:\n",
    "        filepath = inputFolder+'/'+conditionsFolder[numCondition]+'/'+typeOfAnalysis\n",
    "        print(filepath)\n",
    "        new_df = pd.read_csv(filepath,sep='\\t')\n",
    "        new_df['condition'] = conditions[numCondition]\n",
    "        dataCondition.append(new_df)\n",
    "\n",
    "    dfCondition = pd.concat(dataCondition, axis=1);\n",
    "    dfCondition = dfCondition.T.drop_duplicates().T;\n",
    "    data.append(dfCondition)\n",
    "\n",
    "df_analysis = pd.concat(data);"
   ]
  },
  {
   "cell_type": "markdown",
   "id": "f41195ee",
   "metadata": {},
   "source": [
    "## Compute measurements"
   ]
  },
  {
   "cell_type": "markdown",
   "id": "76f2028d",
   "metadata": {},
   "source": [
    "### Compute new measurements"
   ]
  },
  {
   "cell_type": "code",
   "execution_count": null,
   "id": "ba16c89a",
   "metadata": {},
   "outputs": [],
   "source": [
    "# Width of wing (see Roshan paper)\n",
    "distance2Points = (df_analysis['x1'] - df_analysis['x4'])**2 + (df_analysis['y1'] - df_analysis['y4'])**2\n",
    "wingWidth = distance2Points.apply(lambda x: math.sqrt(x))\n",
    "df_analysis['wingWidth'] = wingWidth"
   ]
  },
  {
   "cell_type": "code",
   "execution_count": null,
   "id": "e474fe27",
   "metadata": {
    "scrolled": true
   },
   "outputs": [],
   "source": [
    "results = [];\n",
    "individualResults = [];\n",
    "for numCondition in range(len(conditions)):\n",
    "    condition = conditions[numCondition]\n",
    "    \n",
    "    for sex in sexes:\n",
    "        generalCondition = np.array(df_analysis['condition'] == condition);\n",
    "        \n",
    "        if np.array(df_analysis['CPFile'].str.contains('_F_')).any():\n",
    "            if sex == '':\n",
    "                generalCondition = generalCondition & np.array(df_analysis['CPFile'].str.contains(''))\n",
    "            else:\n",
    "                generalCondition = generalCondition & np.array(df_analysis['CPFile'].str.contains('_'+sex+'_'))\n",
    "            \n",
    "            rightWings = df_analysis[np.array(df_analysis['CPFile'].str.contains('_R')) & generalCondition];\n",
    "            leftWings = df_analysis[np.array(df_analysis['CPFile'].str.contains('_L')) & generalCondition];\n",
    "        else:\n",
    "            generalCondition = generalCondition & np.array(df_analysis['Sex'].str.contains(sex))\n",
    "            \n",
    "            rightWings = df_analysis[np.array(df_analysis['Tags'].str.contains('right')) & generalCondition]\n",
    "            leftWings = df_analysis[np.array(df_analysis['Tags'].str.contains('left')) & generalCondition]\n",
    "\n",
    "        # Quantify\n",
    "        [FAindex6_Area, areaNormalized] = FAindex6(np.array(rightWings['AWing']), np.array(leftWings['AWing']))\n",
    "        [FAindex6_Width, widthNormalized] = FAindex6(np.array(rightWings['wingWidth']), np.array(leftWings['wingWidth']))\n",
    "        \n",
    "        # Measures normalised by area of the wing\n",
    "        if sex != '':\n",
    "            conditionsRepeated_left = np.matlib.repmat([condition, sex, 'left'], leftWings.shape[0], 1)\n",
    "            conditionsRepeated_right = np.matlib.repmat([condition, sex, 'right'], rightWings.shape[0], 1)\n",
    "        else:\n",
    "            conditionsRepeated_left = np.matlib.repmat([condition, 'All', 'left'], leftWings.shape[0], 1)\n",
    "            conditionsRepeated_right = np.matlib.repmat([condition, 'All', 'right'], rightWings.shape[0], 1)\n",
    "            \n",
    "        for feature in features:\n",
    "            if feature in leftWings.columns:\n",
    "                wingValues_left = np.array(100*leftWings[feature]/leftWings['AWing']);\n",
    "                wingValues_right = np.array(100*rightWings[feature]/rightWings['AWing']);\n",
    "            else:\n",
    "                addFeatures = feature.split('_')\n",
    "                addingFeatures = leftWings[addFeatures]\n",
    "                wingValues_left = np.array(100*addingFeatures.sum(axis=1)/leftWings['AWing']);\n",
    "                addingFeatures = rightWings[addFeatures]\n",
    "                wingValues_right = np.array(100*addingFeatures.sum(axis=1)/rightWings['AWing']);\n",
    "                \n",
    "            conditionsRepeated_left = np.column_stack((conditionsRepeated_left, wingValues_left))\n",
    "            conditionsRepeated_right = np.column_stack((conditionsRepeated_right, wingValues_right))\n",
    "\n",
    "        conditionsRepeated_left = np.column_stack((conditionsRepeated_left, leftWings['AWing']))\n",
    "        conditionsRepeated_right = np.column_stack((conditionsRepeated_right, rightWings['AWing']))\n",
    "            \n",
    "        columnNames = np.append(['condition', 'Sex', 'side'], numpy.array(list(features)))\n",
    "        columnNames = np.append(columnNames, ['AWing'])\n",
    "        \n",
    "        newIndividualResults_left = pd.DataFrame(conditionsRepeated_left, columns=columnNames)\n",
    "        newIndividualResults_right = pd.DataFrame(conditionsRepeated_right, columns=columnNames)\n",
    "        individualResults.append(newIndividualResults_left)\n",
    "        individualResults.append(newIndividualResults_right)\n",
    "        \n",
    "        # Save results into a DF\n",
    "        newResult_df = pd.DataFrame([[condition, sex, sum(generalCondition)/2, FAindex6_Area, areaNormalized, FAindex6_Width]], \\\n",
    "                       columns=['condition', 'Sex', 'n', 'FAindex_Area', 'areaNormalised_LR', 'FAindex_Width'])\n",
    "        results.append(newResult_df)\n",
    "\n",
    "individualResults_df = pd.concat(individualResults)\n",
    "results_df = pd.concat(results)\n",
    "\n",
    "features_array = np.array(list(features))\n",
    "features_array = np.append(features_array, 'AWing')\n",
    "individualResults_df[features_array] = individualResults_df[features_array].apply(pd.to_numeric)"
   ]
  },
  {
   "cell_type": "code",
   "execution_count": null,
   "id": "c60bf4ec",
   "metadata": {},
   "outputs": [],
   "source": [
    "# Sort to show them in the correct order\n",
    "#individualResults_df = individualResults_df.sort_values(by=['Sex'])"
   ]
  },
  {
   "cell_type": "markdown",
   "id": "b70cdcd6",
   "metadata": {},
   "source": [
    "## Wing features from Wings4 normalised by its total wing area"
   ]
  },
  {
   "cell_type": "code",
   "execution_count": null,
   "id": "a2c8ca1d",
   "metadata": {
    "scrolled": true
   },
   "outputs": [],
   "source": [
    "if whoIsRunning == 'Pablo':\n",
    "    pairs=[#((\"YW_Still\", \"F\"), (\"YW_Still\", \"M\")),\n",
    "           #((\"sqhAX3_Still\", \"F\"), (\"sqhAX3_Still\", \"M\")),\n",
    "           #((\"sqhAX3_5RPM\", \"F\"), (\"sqhAX3_5RPM\", \"M\")),\n",
    "           #((\"sqhAX3_33RPM\", \"F\"), (\"sqhAX3_33RPM\", \"M\")),\n",
    "           #((\"YW_Still\", \"F\"), (\"sqhAX3_Still\", \"F\")),\n",
    "           #((\"YW_Still\", \"M\"), (\"sqhAX3_Still\", \"M\")),\n",
    "           #((\"YW_Still\", \"All\"), (\"sqhAX3_Still\", \"All\"))\n",
    "           #((\"sqhAX3_5RPM\", \"All\"), (\"sqhAX3_Still\", \"All\")),\n",
    "           #((\"sqhAX3_5RPM\", \"F\"), (\"sqhAX3_Still\", \"F\")),\n",
    "           #((\"sqhAX3_5RPM\", \"M\"), (\"sqhAX3_Still\", \"M\")),\n",
    "           #((\"sqhAX3_33RPM\", \"All\"), (\"sqhAX3_Still\", \"All\")),\n",
    "           #((\"sqhAX3_33RPM\", \"F\"), (\"sqhAX3_Still\", \"F\")),\n",
    "           #((\"sqhAX3_33RPM\", \"M\"), (\"sqhAX3_Still\", \"M\")),\n",
    "           #((\"sqhAX3_33RPM\", \"All\"), (\"sqhAX3_5RPM\", \"All\")),\n",
    "           #((\"sqhAX3_33RPM\", \"F\"), (\"sqhAX3_5RPM\", \"F\")),\n",
    "           #((\"sqhAX3_33RPM\", \"M\"), (\"sqhAX3_5RPM\", \"M\")),\n",
    "          ]\n",
    "else:\n",
    "    #['straight', '0.1', '0.2', '0.3', '0.5']\n",
    "    pairs=[((\"straight\", \"F\"), (\"straight\", \"M\")),\n",
    "           ((\"straight\", \"F\"), (\"0.1\", \"F\")),\n",
    "           ((\"straight\", \"M\"), (\"0.1\", \"M\")),\n",
    "           ((\"0.1\", \"F\"), (\"0.1\", \"M\")),\n",
    "           ((\"0.1\", \"All\"), (\"straight\", \"All\"))]\n",
    "\n",
    "for numAxs in range(len(features_array)):\n",
    "    fig = plt.figure(facecolor='w') \n",
    "    ax = sns.boxplot(data=individualResults_df, x=\"condition\", y=features_array[numAxs], hue=\"Sex\", hue_order=('All', 'F', 'M'), order=conditions)\n",
    "\n",
    "    #annotator = Annotator(ax, pairs, data=individualResults_df, x=\"condition\", y=features_array[numAxs], hue=\"Sex\", hue_order=('All', 'F', 'M'))\n",
    "    #annotator.configure(test='Mann-Whitney', text_format='star', loc='inside')\n",
    "    #annotator.apply_and_annotate()\n",
    "    \n",
    "    fig.savefig(inputFolder+'/Results/wingFeatures'+features_array[numAxs]+'.png', dpi=300, bbox_inches='tight')\n",
    "    "
   ]
  },
  {
   "cell_type": "markdown",
   "id": "0b78f7b3",
   "metadata": {},
   "source": [
    "## FAi 6 analysis"
   ]
  },
  {
   "cell_type": "code",
   "execution_count": null,
   "id": "e8b5f72f",
   "metadata": {
    "scrolled": false
   },
   "outputs": [],
   "source": [
    "#https://www.w3schools.com/colors/colors_xkcd.asp\n",
    "\n",
    "toDisplay_FAi_condition = []\n",
    "toDisplay_FAi_sex = []\n",
    "toDisplay_FAi_areas = []\n",
    "toDisplay_FAi_width = []\n",
    "toDisplay_sex = []\n",
    "toDisplay_condition = []\n",
    "toDisplay_areaNormalised = [];\n",
    "for row in results_df.itertuples():\n",
    "    toDisplay_FAi_condition.append(row.condition)\n",
    "    if row.Sex == '':\n",
    "        rowSex = 'All'\n",
    "    else:\n",
    "        rowSex = row.Sex\n",
    "    toDisplay_FAi_sex.append(rowSex)\n",
    "    toDisplay_FAi_areas.append(row.FAindex_Area)\n",
    "    toDisplay_FAi_width.append(row.FAindex_Width)\n",
    "    for value in row.areaNormalised_LR:\n",
    "        toDisplay_sex.append(rowSex)\n",
    "        toDisplay_condition.append(row.condition)\n",
    "        toDisplay_areaNormalised.append(value)\n",
    "\n",
    "df_toDisplay = pd.DataFrame(dict(Condition=toDisplay_FAi_condition, Sex = toDisplay_FAi_sex, FAi_Area=toDisplay_FAi_areas))\n",
    "fig = plt.figure(facecolor='w')\n",
    "ax = sns.barplot(data=df_toDisplay, x=\"Condition\", y=\"FAi_Area\", hue=\"Sex\", hue_order=('All', 'F', 'M'), order=conditions)\n",
    "fig.savefig(inputFolder+'/Results/FAiIndex_Area.png', dpi=300, bbox_inches='tight')\n",
    "\n",
    "df_toDisplay = pd.DataFrame(dict(Condition=toDisplay_FAi_condition, Sex = toDisplay_FAi_sex, FAi_Width=toDisplay_FAi_width))\n",
    "fig = plt.figure(facecolor='w')\n",
    "ax = sns.barplot(data=df_toDisplay, x=\"Condition\", y=\"FAi_Width\", hue=\"Sex\", hue_order=('All', 'F', 'M'), order=conditions)\n",
    "fig.savefig(inputFolder+'/Results/FAiIndex_Width.png', dpi=300, bbox_inches='tight')"
   ]
  },
  {
   "cell_type": "code",
   "execution_count": null,
   "id": "a4462c2e",
   "metadata": {},
   "outputs": [],
   "source": [
    "df_toDisplay = pd.DataFrame(dict(Condition=toDisplay_condition, Sex = toDisplay_sex, AreaNormalised=toDisplay_areaNormalised))\n",
    "\n",
    "fig = plt.figure(facecolor='w') \n",
    "ax = sns.boxplot(data=df_toDisplay, x=\"Condition\", y=\"AreaNormalised\", hue=\"Sex\", hue_order=('All', 'F', 'M'), order=conditions)\n",
    "\n",
    "#annotator = Annotator(ax, pairs, data=df_toDisplay, x=\"Condition\", y=\"AreaNormalised\", hue=\"Sex\", hue_order=('All', 'F', 'M'))\n",
    "#annotator.configure(test='Levene', text_format='star', loc='inside')\n",
    "#annotator.apply_and_annotate()\n",
    "\n",
    "fig.savefig(inputFolder+'/Results/WingAreaNormalised.png', dpi=300, bbox_inches='tight')\n",
    "#plt.ylim([-0.08, 0.08])"
   ]
  }
 ],
 "metadata": {
  "kernelspec": {
   "display_name": "Python 3 (ipykernel)",
   "language": "python",
   "name": "python3"
  },
  "language_info": {
   "codemirror_mode": {
    "name": "ipython",
    "version": 3
   },
   "file_extension": ".py",
   "mimetype": "text/x-python",
   "name": "python",
   "nbconvert_exporter": "python",
   "pygments_lexer": "ipython3",
   "version": "3.8.16"
  }
 },
 "nbformat": 4,
 "nbformat_minor": 5
}
